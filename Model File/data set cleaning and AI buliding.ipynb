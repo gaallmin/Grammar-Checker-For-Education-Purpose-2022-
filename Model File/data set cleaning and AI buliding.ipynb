{
 "cells": [
  {
   "cell_type": "markdown",
   "id": "covered-melbourne",
   "metadata": {},
   "source": [
    "# correct and incorrect sentences"
   ]
  },
  {
   "cell_type": "markdown",
   "id": "local-charleston",
   "metadata": {},
   "source": [
    "==========\n",
    "## collecting and making dataset\n",
    "=========="
   ]
  },
  {
   "cell_type": "code",
   "execution_count": 73,
   "id": "statistical-relevance",
   "metadata": {
    "collapsed": true,
    "jupyter": {
     "outputs_hidden": true
    },
    "tags": []
   },
   "outputs": [
    {
     "data": {
      "text/plain": [
       "[       0                                           1\n",
       " 0  Wrong  I have visited Niagara Falls last weekend.\n",
       " 1  Right       I visited Niagara Falls last weekend.,\n",
       "        0                                          1\n",
       " 0  Wrong  The woman which works here is from Japan.\n",
       " 1  Right    The woman who works here is from Japan.,\n",
       "        0                              1\n",
       " 0  Wrong  She’s married with a dentist.\n",
       " 1  Right    She’s married to a dentist.,\n",
       "        0                             1\n",
       " 0  Wrong  She was boring in the class.\n",
       " 1  Right   She was bored in the class.,\n",
       "        0                                1\n",
       " 0  Wrong  I must to call him immediately.\n",
       " 1  Right     I must call him immediately.,\n",
       "        0                                 1\n",
       " 0  Wrong  Every students like the teacher.\n",
       " 1  Right  Every student likes the teacher.,\n",
       "        0                                                1\n",
       " 0  Wrong  Although it was raining, but we had the picnic.\n",
       " 1  Right      Although it was raining, we had the picnic.,\n",
       "        0                          1\n",
       " 0  Wrong  I enjoyed from the movie.\n",
       " 1  Right       I enjoyed the movie.,\n",
       "        0                               1\n",
       " 0  Wrong     I look forward to meet you.\n",
       " 1  Right  I look forward to meeting you.,\n",
       "        0                            1\n",
       " 0  Wrong  I like very much ice cream.\n",
       " 1  Right  I like ice cream very much.,\n",
       "        0                  1\n",
       " 0  Wrong  She can to drive.\n",
       " 1  Right     She can drive.,\n",
       "        0                         1\n",
       " 0  Wrong  Where I can find a bank?\n",
       " 1  Right  Where can I find a bank?,\n",
       "        0                             1\n",
       " 0  Wrong      I live in United States.\n",
       " 1  Right  I live in the United States.,\n",
       "        0                                     1\n",
       " 0  Wrong  When I will arrive, I will call you.\n",
       " 1  Right       When I arrive, I will call you.,\n",
       "        0                                   1\n",
       " 0  Wrong  I’ve been here since three months.\n",
       " 1  Right    I’ve been here for three months.,\n",
       "        0                                                  1\n",
       " 0  Wrong                   My boyfriend has got a new work.\n",
       " 1  Right  My boyfriend has got a new job. (or just \"has ...,\n",
       "        0                          1\n",
       " 0  Wrong     She doesn’t listen me.\n",
       " 1  Right  She doesn’t listen to me.,\n",
       "        0                        1\n",
       " 0  Wrong  You speak English good.\n",
       " 1  Right  You speak English well.,\n",
       "        0                       1\n",
       " 0  Wrong   The police is coming.\n",
       " 1  Right  The police are coming.,\n",
       "        0                            1\n",
       " 0  Wrong  The house isn’t enough big.\n",
       " 1  Right  The house isn’t big enough.,\n",
       "        0                         1\n",
       " 0  Wrong  You should not to smoke.\n",
       " 1  Right     You should not smoke.,\n",
       "        0                                1\n",
       " 0  Wrong     Do you like a glass of wine?\n",
       " 1  Right  Would you like a glass of wine?,\n",
       "        0                                    1\n",
       " 0  Wrong   There is seven girls in the class.\n",
       " 1  Right  There are seven girls in the class.,\n",
       "        0                       1\n",
       " 0  Wrong   I didn’t meet nobody.\n",
       " 1  Right  I didn’t meet anybody.,\n",
       "        0                              1\n",
       " 0  Wrong  My flight departs in 5:00 am.\n",
       " 1  Right  My flight departs at 5:00 am.,\n",
       "        0                                   1\n",
       " 0  Wrong     I promise I call you next week.\n",
       " 1  Right  I promise I’ll call you next week.,\n",
       "        0                          1\n",
       " 0  Wrong      Where is post office?\n",
       " 1  Right  Where is the post office?,\n",
       "        0                                                1\n",
       " 0  Wrong        Please explain me how improve my English.\n",
       " 1  Right  Please explain to me how to improve my English.,\n",
       "        0                              1\n",
       " 0  Wrong  We studied during four hours.\n",
       " 1  Right     We studied for four hours.,\n",
       "        0                      1\n",
       " 0  Wrong  Is ready my passport?\n",
       " 1  Right  Is my passport ready?,\n",
       "        0                                  1\n",
       " 0  Wrong  You cannot buy all what you like!\n",
       " 1  Right  You cannot buy all that you like!,\n",
       "        0                   1\n",
       " 0  Wrong     She is success.\n",
       " 1  Right  She is successful.,\n",
       "        0                                    1\n",
       " 0  Wrong   My mother wanted that I be doctor.\n",
       " 1  Right  My mother wanted me to be a doctor.,\n",
       "        0                  1\n",
       " 0  Wrong  The life is hard!\n",
       " 1  Right      Life is hard.,\n",
       "        0                               1\n",
       " 0  Wrong    How many childrens you have?\n",
       " 1  Right  How many children do you have?,\n",
       "        0                              1\n",
       " 0  Wrong       My brother has 10 years.\n",
       " 1  Right  My brother is 10 (years old).,\n",
       "        0                   1\n",
       " 0  Wrong     I want eat now.\n",
       " 1  Right  I want to eat now.,\n",
       "        0                                     1\n",
       " 0  Wrong    You are very nice, as your mother.\n",
       " 1  Right  You are very nice, like your mother.,\n",
       "        0                                1\n",
       " 0  Wrong  She said me that she liked you.\n",
       " 1  Right  She told me that she liked you.,\n",
       "        0                           1\n",
       " 0  Wrong        My husband engineer.\n",
       " 1  Right  My husband is an engineer.,\n",
       "        0                                      1\n",
       " 0  Wrong     I came Australia to study English.\n",
       " 1  Right  I came to Australia to study English.,\n",
       "        0                    1\n",
       " 0  Wrong  It is more hot now.\n",
       " 1  Right     It’s hotter now.,\n",
       "        0                                  1\n",
       " 0  Wrong    You can give me an information?\n",
       " 1  Right  Can you give me some information?,\n",
       "        0                                   1\n",
       " 0  Wrong    They cooked the dinner themself.\n",
       " 1  Right  They cooked the dinner themselves.,\n",
       "        0                         1\n",
       " 0  Wrong  Me and Johnny live here.\n",
       " 1  Right   Johnny and I live here.,\n",
       "        0                                1\n",
       " 0  Wrong  I closed very quietly the door.\n",
       " 1  Right  I closed the door very quietly.,\n",
       "        0                                 1\n",
       " 0  Wrong           You like dance with me?\n",
       " 1  Right  Would you like to dance with me?,\n",
       "        0                                 1\n",
       " 0  Wrong  I go always to school by subway.\n",
       " 1  Right  I always go to school by subway.,\n",
       "        0                                               1\n",
       " 0  Wrong  If I will be in London, I will contact to you.\n",
       " 1  Right          If I am in London, I will contact you.,\n",
       "        0                          1\n",
       " 0  Wrong  We drive usually to home.\n",
       " 1  Right     We usually drive home.]"
      ]
     },
     "execution_count": 73,
     "metadata": {},
     "output_type": "execute_result"
    }
   ],
   "source": [
    "import pandas as pd\n",
    "data_web = pd.read_html('https://www.engvid.com/english-resource/50-common-grammar-mistakes-in-english/')\n",
    "data_web"
   ]
  },
  {
   "cell_type": "code",
   "execution_count": 7,
   "id": "tired-spirituality",
   "metadata": {},
   "outputs": [
    {
     "data": {
      "text/html": [
       "<div>\n",
       "<style scoped>\n",
       "    .dataframe tbody tr th:only-of-type {\n",
       "        vertical-align: middle;\n",
       "    }\n",
       "\n",
       "    .dataframe tbody tr th {\n",
       "        vertical-align: top;\n",
       "    }\n",
       "\n",
       "    .dataframe thead th {\n",
       "        text-align: right;\n",
       "    }\n",
       "</style>\n",
       "<table border=\"1\" class=\"dataframe\">\n",
       "  <thead>\n",
       "    <tr style=\"text-align: right;\">\n",
       "      <th></th>\n",
       "      <th>0</th>\n",
       "      <th>1</th>\n",
       "    </tr>\n",
       "  </thead>\n",
       "  <tbody>\n",
       "    <tr>\n",
       "      <th>0</th>\n",
       "      <td>Wrong</td>\n",
       "      <td>I have visited Niagara Falls last weekend.</td>\n",
       "    </tr>\n",
       "    <tr>\n",
       "      <th>1</th>\n",
       "      <td>Right</td>\n",
       "      <td>I visited Niagara Falls last weekend.</td>\n",
       "    </tr>\n",
       "  </tbody>\n",
       "</table>\n",
       "</div>"
      ],
      "text/plain": [
       "       0                                           1\n",
       "0  Wrong  I have visited Niagara Falls last weekend.\n",
       "1  Right       I visited Niagara Falls last weekend."
      ]
     },
     "execution_count": 7,
     "metadata": {},
     "output_type": "execute_result"
    }
   ],
   "source": [
    "data_web [0] #table 속에 table -> 이어서 붙여야함, how--> 0 번 필드---, sentence는 sentence단위로\n",
    "#right가 오른쪽으로 붙고, 0-50번까지 wrong, right column 으로 만들어서\n",
    "# 문장들에 대해 학습\n",
    "#ginger it--> 어디가 틀렸는지 말해주는 파트를 ㅎ한 칼럼 더 만들어서 ,sentece 단위로 , 계속 이어 붙이기\n",
    "# 현재 웹데이터 -->"
   ]
  },
  {
   "cell_type": "code",
   "execution_count": 12,
   "id": "operating-vision",
   "metadata": {},
   "outputs": [],
   "source": [
    "for i in range (len(data_web)):\n",
    "    data_web [i].to_csv(f'./data_web{i}.csv', index= False) #각자 csv저장 #excel file"
   ]
  },
  {
   "cell_type": "code",
   "execution_count": 74,
   "id": "considered-cleaner",
   "metadata": {},
   "outputs": [],
   "source": [
    "#이어 붙이기\n",
    "data_final = data_web [0].copy() #초기화 되어서 계속 concat가능\n",
    "for i in range (len(data_web)):\n",
    "    data_final = pd.concat([data_final,data_web[i]]) #data final  초기화 필요"
   ]
  },
  {
   "cell_type": "code",
   "execution_count": 75,
   "id": "least-facial",
   "metadata": {},
   "outputs": [],
   "source": [
    "data_final.columns = ['정오','문장']"
   ]
  },
  {
   "cell_type": "code",
   "execution_count": 76,
   "id": "interesting-green",
   "metadata": {},
   "outputs": [],
   "source": [
    "#reset index\n",
    "data_final.reset_index(drop=True,inplace = True)"
   ]
  },
  {
   "cell_type": "code",
   "execution_count": 16,
   "id": "adverse-bermuda",
   "metadata": {},
   "outputs": [],
   "source": [
    "data_final.to_csv('./data_set.csv',index= False)"
   ]
  },
  {
   "cell_type": "code",
   "execution_count": 58,
   "id": "rubber-occasion",
   "metadata": {},
   "outputs": [],
   "source": [
    "# 하나씩 문법 분석 및 태그 달기\n",
    "\n",
    "# 제일 먼저 할 질문--> nltk download->무한 루프 why? and how to solve it\n",
    "\n",
    "## 질문--> 1. 이렇게 나온 값 (?) 긁어온 text들을 txt 파일로 만드는 방법\n",
    "        # 2. nltk 라이브러리를 사용할 때 multi line string 이 아니라 파일로 만드는 법\n",
    "        # 3. 자동화를 위해 두가지 방법 생각 중 \n",
    "                    #--> 기존에 라이브러리에서 tokenization 사용 및 nlp tagging -> slang/ 일반 언어 구분-> sentences that include slangs 을 학습시키고\n",
    "                    #slang과 그 의미를 연결하는 dic을 만들어서 아무 random 문장을 줬을 때 슬랭을 구별할 수 있는 방법\n",
    "                \n",
    "                    #--> 아에 image mining으로 가서 현미경 이미지 dectecting -> 창의적이지 않고 재미가 없을 것 같아서 고민\n",
    "            \n",
    "        "
   ]
  },
  {
   "cell_type": "code",
   "execution_count": 77,
   "id": "transparent-farmer",
   "metadata": {
    "collapsed": true,
    "jupyter": {
     "outputs_hidden": true
    },
    "tags": []
   },
   "outputs": [
    {
     "data": {
      "text/html": [
       "<div>\n",
       "<style scoped>\n",
       "    .dataframe tbody tr th:only-of-type {\n",
       "        vertical-align: middle;\n",
       "    }\n",
       "\n",
       "    .dataframe tbody tr th {\n",
       "        vertical-align: top;\n",
       "    }\n",
       "\n",
       "    .dataframe thead th {\n",
       "        text-align: right;\n",
       "    }\n",
       "</style>\n",
       "<table border=\"1\" class=\"dataframe\">\n",
       "  <thead>\n",
       "    <tr style=\"text-align: right;\">\n",
       "      <th></th>\n",
       "      <th>0</th>\n",
       "      <th>1</th>\n",
       "    </tr>\n",
       "  </thead>\n",
       "  <tbody>\n",
       "    <tr>\n",
       "      <th>0</th>\n",
       "      <td>Incorrect</td>\n",
       "      <td>I have a good news for you.</td>\n",
       "    </tr>\n",
       "    <tr>\n",
       "      <th>1</th>\n",
       "      <td>Correct</td>\n",
       "      <td>I have good news for you</td>\n",
       "    </tr>\n",
       "    <tr>\n",
       "      <th>2</th>\n",
       "      <td>Incorrect</td>\n",
       "      <td>Worry kills more the men than work.</td>\n",
       "    </tr>\n",
       "    <tr>\n",
       "      <th>3</th>\n",
       "      <td>Correct</td>\n",
       "      <td>Worry kills more men than work.</td>\n",
       "    </tr>\n",
       "    <tr>\n",
       "      <th>4</th>\n",
       "      <td>Incorrect</td>\n",
       "      <td>We learn not at the school, but in life.</td>\n",
       "    </tr>\n",
       "    <tr>\n",
       "      <th>...</th>\n",
       "      <td>...</td>\n",
       "      <td>...</td>\n",
       "    </tr>\n",
       "    <tr>\n",
       "      <th>337</th>\n",
       "      <td>Correct</td>\n",
       "      <td>My father will be home this afternoon.</td>\n",
       "    </tr>\n",
       "    <tr>\n",
       "      <th>338</th>\n",
       "      <td>Incorrect</td>\n",
       "      <td>I very love drawing.</td>\n",
       "    </tr>\n",
       "    <tr>\n",
       "      <th>339</th>\n",
       "      <td>Correct</td>\n",
       "      <td>I love drawing very much.</td>\n",
       "    </tr>\n",
       "    <tr>\n",
       "      <th>340</th>\n",
       "      <td>Incorrect</td>\n",
       "      <td>What of season do you like best ?</td>\n",
       "    </tr>\n",
       "    <tr>\n",
       "      <th>341</th>\n",
       "      <td>Correct</td>\n",
       "      <td>Which season do you like best ?</td>\n",
       "    </tr>\n",
       "  </tbody>\n",
       "</table>\n",
       "<p>342 rows × 2 columns</p>\n",
       "</div>"
      ],
      "text/plain": [
       "             0                                           1\n",
       "0    Incorrect                 I have a good news for you.\n",
       "1      Correct                    I have good news for you\n",
       "2    Incorrect         Worry kills more the men than work.\n",
       "3      Correct             Worry kills more men than work.\n",
       "4    Incorrect    We learn not at the school, but in life.\n",
       "..         ...                                         ...\n",
       "337    Correct      My father will be home this afternoon.\n",
       "338  Incorrect                        I very love drawing.\n",
       "339    Correct                   I love drawing very much.\n",
       "340  Incorrect           What of season do you like best ?\n",
       "341    Correct             Which season do you like best ?\n",
       "\n",
       "[342 rows x 2 columns]"
      ]
     },
     "execution_count": 77,
     "metadata": {},
     "output_type": "execute_result"
    }
   ],
   "source": [
    "pd.read_csv('extra_data.csv')"
   ]
  },
  {
   "cell_type": "code",
   "execution_count": 78,
   "id": "extensive-official",
   "metadata": {
    "collapsed": true,
    "jupyter": {
     "outputs_hidden": true
    },
    "tags": []
   },
   "outputs": [
    {
     "ename": "IsADirectoryError",
     "evalue": "[Errno 21] Is a directory: './.ipynb_checkpoints'",
     "output_type": "error",
     "traceback": [
      "\u001b[0;31m---------------------------------------------------------------------------\u001b[0m",
      "\u001b[0;31mIsADirectoryError\u001b[0m                         Traceback (most recent call last)",
      "\u001b[0;32m<ipython-input-78-ebeec747104f>\u001b[0m in \u001b[0;36m<module>\u001b[0;34m\u001b[0m\n\u001b[1;32m      6\u001b[0m \u001b[0;34m\u001b[0m\u001b[0m\n\u001b[1;32m      7\u001b[0m \u001b[0;32mfor\u001b[0m \u001b[0mfile\u001b[0m \u001b[0;32min\u001b[0m \u001b[0mfileAll\u001b[0m\u001b[0;34m:\u001b[0m\u001b[0;34m\u001b[0m\u001b[0;34m\u001b[0m\u001b[0m\n\u001b[0;32m----> 8\u001b[0;31m     \u001b[0mrowsize\u001b[0m \u001b[0;34m=\u001b[0m \u001b[0msum\u001b[0m\u001b[0;34m(\u001b[0m\u001b[0;36m1\u001b[0m \u001b[0;32mfor\u001b[0m \u001b[0mrow\u001b[0m \u001b[0;32min\u001b[0m \u001b[0;34m(\u001b[0m\u001b[0mopen\u001b[0m\u001b[0;34m(\u001b[0m\u001b[0mfilePath\u001b[0m \u001b[0;34m+\u001b[0m \u001b[0mfile\u001b[0m\u001b[0;34m,\u001b[0m \u001b[0mencoding\u001b[0m\u001b[0;34m=\u001b[0m\u001b[0;34m'UTF-8'\u001b[0m\u001b[0;34m)\u001b[0m\u001b[0;34m)\u001b[0m\u001b[0;34m)\u001b[0m\u001b[0;34m\u001b[0m\u001b[0;34m\u001b[0m\u001b[0m\n\u001b[0m\u001b[1;32m      9\u001b[0m     \u001b[0mnewsize\u001b[0m \u001b[0;34m=\u001b[0m \u001b[0;36m2\u001b[0m  \u001b[0;31m# 쪼개고 싶은 행수 수준으로 입력. 이정도 행수는 200mb 이하임.\u001b[0m\u001b[0;34m\u001b[0m\u001b[0;34m\u001b[0m\u001b[0m\n\u001b[1;32m     10\u001b[0m     \u001b[0mtimes\u001b[0m \u001b[0;34m=\u001b[0m \u001b[0;36m0\u001b[0m\u001b[0;34m\u001b[0m\u001b[0;34m\u001b[0m\u001b[0m\n",
      "\u001b[0;31mIsADirectoryError\u001b[0m: [Errno 21] Is a directory: './.ipynb_checkpoints'"
     ]
    }
   ],
   "source": [
    "import pandas as pd\n",
    "import os\n",
    "\n",
    "filePath = './' \n",
    "fileAll = os.listdir(filePath)\n",
    "\n",
    "for file in fileAll:\n",
    "    rowsize = sum(1 for row in (open(filePath + file, encoding='UTF-8')))\n",
    "    newsize = 2  # 쪼개고 싶은 행수 수준으로 입력. 이정도 행수는 200mb 이하임.\n",
    "    times = 0\n",
    "    for i in range(1, rowsize, newsize):\n",
    "        times += 1   # 폴더 내 파일을 하나씩 점검하면서, 입력한 newsize보다 넘는 행을 쪼개줌\n",
    "        df = pd.read_csv(filePath + file, header=None, nrows = newsize, skiprows=i)\n",
    "        csv_output = file[:-4] + '_' + str(times) + '.csv'   # 쪼갠 수만큼 _1, _2... _n으로 꼬리를 달아서 파일명이 저장됨\n",
    "        df.to_csv(filePath + csv_output, index=False, header=False, mode='a', chunksize=rowsize)"
   ]
  },
  {
   "cell_type": "code",
   "execution_count": 82,
   "id": "minimal-jungle",
   "metadata": {
    "collapsed": true,
    "jupyter": {
     "outputs_hidden": true
    },
    "tags": []
   },
   "outputs": [
    {
     "ename": "FileNotFoundError",
     "evalue": "[Errno 2] No such file or directory: './data_set.csv'",
     "output_type": "error",
     "traceback": [
      "\u001b[0;31m---------------------------------------------------------------------------\u001b[0m",
      "\u001b[0;31mFileNotFoundError\u001b[0m                         Traceback (most recent call last)",
      "\u001b[0;32m<ipython-input-82-1118b2fa4d0d>\u001b[0m in \u001b[0;36m<module>\u001b[0;34m\u001b[0m\n\u001b[0;32m----> 1\u001b[0;31m \u001b[0mdf\u001b[0m\u001b[0;34m=\u001b[0m \u001b[0mpd\u001b[0m\u001b[0;34m.\u001b[0m\u001b[0mread_csv\u001b[0m\u001b[0;34m(\u001b[0m\u001b[0;34m'./data_set.csv'\u001b[0m\u001b[0;34m)\u001b[0m\u001b[0;34m\u001b[0m\u001b[0;34m\u001b[0m\u001b[0m\n\u001b[0m\u001b[1;32m      2\u001b[0m \u001b[0mdf\u001b[0m\u001b[0;34m\u001b[0m\u001b[0;34m\u001b[0m\u001b[0m\n",
      "\u001b[0;32m/usr/local/lib/python3.8/dist-packages/pandas/io/parsers.py\u001b[0m in \u001b[0;36mread_csv\u001b[0;34m(filepath_or_buffer, sep, delimiter, header, names, index_col, usecols, squeeze, prefix, mangle_dupe_cols, dtype, engine, converters, true_values, false_values, skipinitialspace, skiprows, skipfooter, nrows, na_values, keep_default_na, na_filter, verbose, skip_blank_lines, parse_dates, infer_datetime_format, keep_date_col, date_parser, dayfirst, cache_dates, iterator, chunksize, compression, thousands, decimal, lineterminator, quotechar, quoting, doublequote, escapechar, comment, encoding, dialect, error_bad_lines, warn_bad_lines, delim_whitespace, low_memory, memory_map, float_precision, storage_options)\u001b[0m\n\u001b[1;32m    608\u001b[0m     \u001b[0mkwds\u001b[0m\u001b[0;34m.\u001b[0m\u001b[0mupdate\u001b[0m\u001b[0;34m(\u001b[0m\u001b[0mkwds_defaults\u001b[0m\u001b[0;34m)\u001b[0m\u001b[0;34m\u001b[0m\u001b[0;34m\u001b[0m\u001b[0m\n\u001b[1;32m    609\u001b[0m \u001b[0;34m\u001b[0m\u001b[0m\n\u001b[0;32m--> 610\u001b[0;31m     \u001b[0;32mreturn\u001b[0m \u001b[0m_read\u001b[0m\u001b[0;34m(\u001b[0m\u001b[0mfilepath_or_buffer\u001b[0m\u001b[0;34m,\u001b[0m \u001b[0mkwds\u001b[0m\u001b[0;34m)\u001b[0m\u001b[0;34m\u001b[0m\u001b[0;34m\u001b[0m\u001b[0m\n\u001b[0m\u001b[1;32m    611\u001b[0m \u001b[0;34m\u001b[0m\u001b[0m\n\u001b[1;32m    612\u001b[0m \u001b[0;34m\u001b[0m\u001b[0m\n",
      "\u001b[0;32m/usr/local/lib/python3.8/dist-packages/pandas/io/parsers.py\u001b[0m in \u001b[0;36m_read\u001b[0;34m(filepath_or_buffer, kwds)\u001b[0m\n\u001b[1;32m    460\u001b[0m \u001b[0;34m\u001b[0m\u001b[0m\n\u001b[1;32m    461\u001b[0m     \u001b[0;31m# Create the parser.\u001b[0m\u001b[0;34m\u001b[0m\u001b[0;34m\u001b[0m\u001b[0;34m\u001b[0m\u001b[0m\n\u001b[0;32m--> 462\u001b[0;31m     \u001b[0mparser\u001b[0m \u001b[0;34m=\u001b[0m \u001b[0mTextFileReader\u001b[0m\u001b[0;34m(\u001b[0m\u001b[0mfilepath_or_buffer\u001b[0m\u001b[0;34m,\u001b[0m \u001b[0;34m**\u001b[0m\u001b[0mkwds\u001b[0m\u001b[0;34m)\u001b[0m\u001b[0;34m\u001b[0m\u001b[0;34m\u001b[0m\u001b[0m\n\u001b[0m\u001b[1;32m    463\u001b[0m \u001b[0;34m\u001b[0m\u001b[0m\n\u001b[1;32m    464\u001b[0m     \u001b[0;32mif\u001b[0m \u001b[0mchunksize\u001b[0m \u001b[0;32mor\u001b[0m \u001b[0miterator\u001b[0m\u001b[0;34m:\u001b[0m\u001b[0;34m\u001b[0m\u001b[0;34m\u001b[0m\u001b[0m\n",
      "\u001b[0;32m/usr/local/lib/python3.8/dist-packages/pandas/io/parsers.py\u001b[0m in \u001b[0;36m__init__\u001b[0;34m(self, f, engine, **kwds)\u001b[0m\n\u001b[1;32m    817\u001b[0m             \u001b[0mself\u001b[0m\u001b[0;34m.\u001b[0m\u001b[0moptions\u001b[0m\u001b[0;34m[\u001b[0m\u001b[0;34m\"has_index_names\"\u001b[0m\u001b[0;34m]\u001b[0m \u001b[0;34m=\u001b[0m \u001b[0mkwds\u001b[0m\u001b[0;34m[\u001b[0m\u001b[0;34m\"has_index_names\"\u001b[0m\u001b[0;34m]\u001b[0m\u001b[0;34m\u001b[0m\u001b[0;34m\u001b[0m\u001b[0m\n\u001b[1;32m    818\u001b[0m \u001b[0;34m\u001b[0m\u001b[0m\n\u001b[0;32m--> 819\u001b[0;31m         \u001b[0mself\u001b[0m\u001b[0;34m.\u001b[0m\u001b[0m_engine\u001b[0m \u001b[0;34m=\u001b[0m \u001b[0mself\u001b[0m\u001b[0;34m.\u001b[0m\u001b[0m_make_engine\u001b[0m\u001b[0;34m(\u001b[0m\u001b[0mself\u001b[0m\u001b[0;34m.\u001b[0m\u001b[0mengine\u001b[0m\u001b[0;34m)\u001b[0m\u001b[0;34m\u001b[0m\u001b[0;34m\u001b[0m\u001b[0m\n\u001b[0m\u001b[1;32m    820\u001b[0m \u001b[0;34m\u001b[0m\u001b[0m\n\u001b[1;32m    821\u001b[0m     \u001b[0;32mdef\u001b[0m \u001b[0mclose\u001b[0m\u001b[0;34m(\u001b[0m\u001b[0mself\u001b[0m\u001b[0;34m)\u001b[0m\u001b[0;34m:\u001b[0m\u001b[0;34m\u001b[0m\u001b[0;34m\u001b[0m\u001b[0m\n",
      "\u001b[0;32m/usr/local/lib/python3.8/dist-packages/pandas/io/parsers.py\u001b[0m in \u001b[0;36m_make_engine\u001b[0;34m(self, engine)\u001b[0m\n\u001b[1;32m   1048\u001b[0m             )\n\u001b[1;32m   1049\u001b[0m         \u001b[0;31m# error: Too many arguments for \"ParserBase\"\u001b[0m\u001b[0;34m\u001b[0m\u001b[0;34m\u001b[0m\u001b[0;34m\u001b[0m\u001b[0m\n\u001b[0;32m-> 1050\u001b[0;31m         \u001b[0;32mreturn\u001b[0m \u001b[0mmapping\u001b[0m\u001b[0;34m[\u001b[0m\u001b[0mengine\u001b[0m\u001b[0;34m]\u001b[0m\u001b[0;34m(\u001b[0m\u001b[0mself\u001b[0m\u001b[0;34m.\u001b[0m\u001b[0mf\u001b[0m\u001b[0;34m,\u001b[0m \u001b[0;34m**\u001b[0m\u001b[0mself\u001b[0m\u001b[0;34m.\u001b[0m\u001b[0moptions\u001b[0m\u001b[0;34m)\u001b[0m  \u001b[0;31m# type: ignore[call-arg]\u001b[0m\u001b[0;34m\u001b[0m\u001b[0;34m\u001b[0m\u001b[0m\n\u001b[0m\u001b[1;32m   1051\u001b[0m \u001b[0;34m\u001b[0m\u001b[0m\n\u001b[1;32m   1052\u001b[0m     \u001b[0;32mdef\u001b[0m \u001b[0m_failover_to_python\u001b[0m\u001b[0;34m(\u001b[0m\u001b[0mself\u001b[0m\u001b[0;34m)\u001b[0m\u001b[0;34m:\u001b[0m\u001b[0;34m\u001b[0m\u001b[0;34m\u001b[0m\u001b[0m\n",
      "\u001b[0;32m/usr/local/lib/python3.8/dist-packages/pandas/io/parsers.py\u001b[0m in \u001b[0;36m__init__\u001b[0;34m(self, src, **kwds)\u001b[0m\n\u001b[1;32m   1865\u001b[0m \u001b[0;34m\u001b[0m\u001b[0m\n\u001b[1;32m   1866\u001b[0m         \u001b[0;31m# open handles\u001b[0m\u001b[0;34m\u001b[0m\u001b[0;34m\u001b[0m\u001b[0;34m\u001b[0m\u001b[0m\n\u001b[0;32m-> 1867\u001b[0;31m         \u001b[0mself\u001b[0m\u001b[0;34m.\u001b[0m\u001b[0m_open_handles\u001b[0m\u001b[0;34m(\u001b[0m\u001b[0msrc\u001b[0m\u001b[0;34m,\u001b[0m \u001b[0mkwds\u001b[0m\u001b[0;34m)\u001b[0m\u001b[0;34m\u001b[0m\u001b[0;34m\u001b[0m\u001b[0m\n\u001b[0m\u001b[1;32m   1868\u001b[0m         \u001b[0;32massert\u001b[0m \u001b[0mself\u001b[0m\u001b[0;34m.\u001b[0m\u001b[0mhandles\u001b[0m \u001b[0;32mis\u001b[0m \u001b[0;32mnot\u001b[0m \u001b[0;32mNone\u001b[0m\u001b[0;34m\u001b[0m\u001b[0;34m\u001b[0m\u001b[0m\n\u001b[1;32m   1869\u001b[0m         \u001b[0;32mfor\u001b[0m \u001b[0mkey\u001b[0m \u001b[0;32min\u001b[0m \u001b[0;34m(\u001b[0m\u001b[0;34m\"storage_options\"\u001b[0m\u001b[0;34m,\u001b[0m \u001b[0;34m\"encoding\"\u001b[0m\u001b[0;34m,\u001b[0m \u001b[0;34m\"memory_map\"\u001b[0m\u001b[0;34m,\u001b[0m \u001b[0;34m\"compression\"\u001b[0m\u001b[0;34m)\u001b[0m\u001b[0;34m:\u001b[0m\u001b[0;34m\u001b[0m\u001b[0;34m\u001b[0m\u001b[0m\n",
      "\u001b[0;32m/usr/local/lib/python3.8/dist-packages/pandas/io/parsers.py\u001b[0m in \u001b[0;36m_open_handles\u001b[0;34m(self, src, kwds)\u001b[0m\n\u001b[1;32m   1360\u001b[0m         \u001b[0mLet\u001b[0m \u001b[0mthe\u001b[0m \u001b[0mreaders\u001b[0m \u001b[0mopen\u001b[0m \u001b[0mIOHanldes\u001b[0m \u001b[0mafter\u001b[0m \u001b[0mthey\u001b[0m \u001b[0mare\u001b[0m \u001b[0mdone\u001b[0m \u001b[0;32mwith\u001b[0m \u001b[0mtheir\u001b[0m \u001b[0mpotential\u001b[0m \u001b[0mraises\u001b[0m\u001b[0;34m.\u001b[0m\u001b[0;34m\u001b[0m\u001b[0;34m\u001b[0m\u001b[0m\n\u001b[1;32m   1361\u001b[0m         \"\"\"\n\u001b[0;32m-> 1362\u001b[0;31m         self.handles = get_handle(\n\u001b[0m\u001b[1;32m   1363\u001b[0m             \u001b[0msrc\u001b[0m\u001b[0;34m,\u001b[0m\u001b[0;34m\u001b[0m\u001b[0;34m\u001b[0m\u001b[0m\n\u001b[1;32m   1364\u001b[0m             \u001b[0;34m\"r\"\u001b[0m\u001b[0;34m,\u001b[0m\u001b[0;34m\u001b[0m\u001b[0;34m\u001b[0m\u001b[0m\n",
      "\u001b[0;32m/usr/local/lib/python3.8/dist-packages/pandas/io/common.py\u001b[0m in \u001b[0;36mget_handle\u001b[0;34m(path_or_buf, mode, encoding, compression, memory_map, is_text, errors, storage_options)\u001b[0m\n\u001b[1;32m    640\u001b[0m                 \u001b[0merrors\u001b[0m \u001b[0;34m=\u001b[0m \u001b[0;34m\"replace\"\u001b[0m\u001b[0;34m\u001b[0m\u001b[0;34m\u001b[0m\u001b[0m\n\u001b[1;32m    641\u001b[0m             \u001b[0;31m# Encoding\u001b[0m\u001b[0;34m\u001b[0m\u001b[0;34m\u001b[0m\u001b[0;34m\u001b[0m\u001b[0m\n\u001b[0;32m--> 642\u001b[0;31m             handle = open(\n\u001b[0m\u001b[1;32m    643\u001b[0m                 \u001b[0mhandle\u001b[0m\u001b[0;34m,\u001b[0m\u001b[0;34m\u001b[0m\u001b[0;34m\u001b[0m\u001b[0m\n\u001b[1;32m    644\u001b[0m                 \u001b[0mioargs\u001b[0m\u001b[0;34m.\u001b[0m\u001b[0mmode\u001b[0m\u001b[0;34m,\u001b[0m\u001b[0;34m\u001b[0m\u001b[0;34m\u001b[0m\u001b[0m\n",
      "\u001b[0;31mFileNotFoundError\u001b[0m: [Errno 2] No such file or directory: './data_set.csv'"
     ]
    }
   ],
   "source": [
    "df= pd.read_csv('./data_set.csv')\n",
    "df"
   ]
  },
  {
   "cell_type": "code",
   "execution_count": 83,
   "id": "victorian-lecture",
   "metadata": {},
   "outputs": [
    {
     "data": {
      "text/html": [
       "<div>\n",
       "<style scoped>\n",
       "    .dataframe tbody tr th:only-of-type {\n",
       "        vertical-align: middle;\n",
       "    }\n",
       "\n",
       "    .dataframe tbody tr th {\n",
       "        vertical-align: top;\n",
       "    }\n",
       "\n",
       "    .dataframe thead th {\n",
       "        text-align: right;\n",
       "    }\n",
       "</style>\n",
       "<table border=\"1\" class=\"dataframe\">\n",
       "  <thead>\n",
       "    <tr style=\"text-align: right;\">\n",
       "      <th></th>\n",
       "      <th>0</th>\n",
       "      <th>1</th>\n",
       "    </tr>\n",
       "  </thead>\n",
       "  <tbody>\n",
       "    <tr>\n",
       "      <th>0</th>\n",
       "      <td>Incorrect</td>\n",
       "      <td>I have a good news for you.</td>\n",
       "    </tr>\n",
       "    <tr>\n",
       "      <th>1</th>\n",
       "      <td>Correct</td>\n",
       "      <td>I have good news for you</td>\n",
       "    </tr>\n",
       "    <tr>\n",
       "      <th>2</th>\n",
       "      <td>Incorrect</td>\n",
       "      <td>Worry kills more the men than work.</td>\n",
       "    </tr>\n",
       "    <tr>\n",
       "      <th>3</th>\n",
       "      <td>Correct</td>\n",
       "      <td>Worry kills more men than work.</td>\n",
       "    </tr>\n",
       "    <tr>\n",
       "      <th>4</th>\n",
       "      <td>Incorrect</td>\n",
       "      <td>We learn not at the school, but in life.</td>\n",
       "    </tr>\n",
       "    <tr>\n",
       "      <th>...</th>\n",
       "      <td>...</td>\n",
       "      <td>...</td>\n",
       "    </tr>\n",
       "    <tr>\n",
       "      <th>337</th>\n",
       "      <td>Correct</td>\n",
       "      <td>My father will be home this afternoon.</td>\n",
       "    </tr>\n",
       "    <tr>\n",
       "      <th>338</th>\n",
       "      <td>Incorrect</td>\n",
       "      <td>I very love drawing.</td>\n",
       "    </tr>\n",
       "    <tr>\n",
       "      <th>339</th>\n",
       "      <td>Correct</td>\n",
       "      <td>I love drawing very much.</td>\n",
       "    </tr>\n",
       "    <tr>\n",
       "      <th>340</th>\n",
       "      <td>Incorrect</td>\n",
       "      <td>What of season do you like best ?</td>\n",
       "    </tr>\n",
       "    <tr>\n",
       "      <th>341</th>\n",
       "      <td>Correct</td>\n",
       "      <td>Which season do you like best ?</td>\n",
       "    </tr>\n",
       "  </tbody>\n",
       "</table>\n",
       "<p>342 rows × 2 columns</p>\n",
       "</div>"
      ],
      "text/plain": [
       "             0                                           1\n",
       "0    Incorrect                 I have a good news for you.\n",
       "1      Correct                    I have good news for you\n",
       "2    Incorrect         Worry kills more the men than work.\n",
       "3      Correct             Worry kills more men than work.\n",
       "4    Incorrect    We learn not at the school, but in life.\n",
       "..         ...                                         ...\n",
       "337    Correct      My father will be home this afternoon.\n",
       "338  Incorrect                        I very love drawing.\n",
       "339    Correct                   I love drawing very much.\n",
       "340  Incorrect           What of season do you like best ?\n",
       "341    Correct             Which season do you like best ?\n",
       "\n",
       "[342 rows x 2 columns]"
      ]
     },
     "execution_count": 83,
     "metadata": {},
     "output_type": "execute_result"
    }
   ],
   "source": [
    "df1 = pd.read_csv('./extra_data.csv')\n",
    "df1"
   ]
  },
  {
   "cell_type": "code",
   "execution_count": 84,
   "id": "plain-wellington",
   "metadata": {},
   "outputs": [],
   "source": [
    "df1.columns = ['정오','문장']"
   ]
  },
  {
   "cell_type": "code",
   "execution_count": 85,
   "id": "conventional-westminster",
   "metadata": {
    "tags": []
   },
   "outputs": [
    {
     "data": {
      "text/html": [
       "<div>\n",
       "<style scoped>\n",
       "    .dataframe tbody tr th:only-of-type {\n",
       "        vertical-align: middle;\n",
       "    }\n",
       "\n",
       "    .dataframe tbody tr th {\n",
       "        vertical-align: top;\n",
       "    }\n",
       "\n",
       "    .dataframe thead th {\n",
       "        text-align: right;\n",
       "    }\n",
       "</style>\n",
       "<table border=\"1\" class=\"dataframe\">\n",
       "  <thead>\n",
       "    <tr style=\"text-align: right;\">\n",
       "      <th></th>\n",
       "      <th>label</th>\n",
       "      <th>sentence</th>\n",
       "      <th>정오</th>\n",
       "      <th>문장</th>\n",
       "    </tr>\n",
       "  </thead>\n",
       "  <tbody>\n",
       "    <tr>\n",
       "      <th>0</th>\n",
       "      <td>Incorrect</td>\n",
       "      <td>I have a good news for you.</td>\n",
       "      <td>NaN</td>\n",
       "      <td>NaN</td>\n",
       "    </tr>\n",
       "    <tr>\n",
       "      <th>1</th>\n",
       "      <td>Correct</td>\n",
       "      <td>I have good news for you</td>\n",
       "      <td>NaN</td>\n",
       "      <td>NaN</td>\n",
       "    </tr>\n",
       "    <tr>\n",
       "      <th>2</th>\n",
       "      <td>Incorrect</td>\n",
       "      <td>Worry kills more the men than work.</td>\n",
       "      <td>NaN</td>\n",
       "      <td>NaN</td>\n",
       "    </tr>\n",
       "    <tr>\n",
       "      <th>3</th>\n",
       "      <td>Correct</td>\n",
       "      <td>Worry kills more men than work.</td>\n",
       "      <td>NaN</td>\n",
       "      <td>NaN</td>\n",
       "    </tr>\n",
       "    <tr>\n",
       "      <th>4</th>\n",
       "      <td>Incorrect</td>\n",
       "      <td>We learn not at the school, but in life.</td>\n",
       "      <td>NaN</td>\n",
       "      <td>NaN</td>\n",
       "    </tr>\n",
       "    <tr>\n",
       "      <th>...</th>\n",
       "      <td>...</td>\n",
       "      <td>...</td>\n",
       "      <td>...</td>\n",
       "      <td>...</td>\n",
       "    </tr>\n",
       "    <tr>\n",
       "      <th>337</th>\n",
       "      <td>NaN</td>\n",
       "      <td>NaN</td>\n",
       "      <td>Correct</td>\n",
       "      <td>My father will be home this afternoon.</td>\n",
       "    </tr>\n",
       "    <tr>\n",
       "      <th>338</th>\n",
       "      <td>NaN</td>\n",
       "      <td>NaN</td>\n",
       "      <td>Incorrect</td>\n",
       "      <td>I very love drawing.</td>\n",
       "    </tr>\n",
       "    <tr>\n",
       "      <th>339</th>\n",
       "      <td>NaN</td>\n",
       "      <td>NaN</td>\n",
       "      <td>Correct</td>\n",
       "      <td>I love drawing very much.</td>\n",
       "    </tr>\n",
       "    <tr>\n",
       "      <th>340</th>\n",
       "      <td>NaN</td>\n",
       "      <td>NaN</td>\n",
       "      <td>Incorrect</td>\n",
       "      <td>What of season do you like best ?</td>\n",
       "    </tr>\n",
       "    <tr>\n",
       "      <th>341</th>\n",
       "      <td>NaN</td>\n",
       "      <td>NaN</td>\n",
       "      <td>Correct</td>\n",
       "      <td>Which season do you like best ?</td>\n",
       "    </tr>\n",
       "  </tbody>\n",
       "</table>\n",
       "<p>684 rows × 4 columns</p>\n",
       "</div>"
      ],
      "text/plain": [
       "         label                                  sentence         정오  \\\n",
       "0    Incorrect               I have a good news for you.        NaN   \n",
       "1      Correct                  I have good news for you        NaN   \n",
       "2    Incorrect       Worry kills more the men than work.        NaN   \n",
       "3      Correct           Worry kills more men than work.        NaN   \n",
       "4    Incorrect  We learn not at the school, but in life.        NaN   \n",
       "..         ...                                       ...        ...   \n",
       "337        NaN                                       NaN    Correct   \n",
       "338        NaN                                       NaN  Incorrect   \n",
       "339        NaN                                       NaN    Correct   \n",
       "340        NaN                                       NaN  Incorrect   \n",
       "341        NaN                                       NaN    Correct   \n",
       "\n",
       "                                             문장  \n",
       "0                                           NaN  \n",
       "1                                           NaN  \n",
       "2                                           NaN  \n",
       "3                                           NaN  \n",
       "4                                           NaN  \n",
       "..                                          ...  \n",
       "337      My father will be home this afternoon.  \n",
       "338                        I very love drawing.  \n",
       "339                   I love drawing very much.  \n",
       "340           What of season do you like best ?  \n",
       "341             Which season do you like best ?  \n",
       "\n",
       "[684 rows x 4 columns]"
      ]
     },
     "execution_count": 85,
     "metadata": {},
     "output_type": "execute_result"
    }
   ],
   "source": [
    "df_final_1 = pd.concat([df,df1],axis= False)\n",
    "df_final_1"
   ]
  },
  {
   "cell_type": "code",
   "execution_count": 86,
   "id": "living-registrar",
   "metadata": {},
   "outputs": [],
   "source": [
    "df_final_1.to_csv('./data_final.csv',index = False)"
   ]
  },
  {
   "cell_type": "code",
   "execution_count": 87,
   "id": "velvet-hawaii",
   "metadata": {
    "collapsed": true,
    "jupyter": {
     "outputs_hidden": true
    },
    "tags": []
   },
   "outputs": [
    {
     "data": {
      "text/html": [
       "<div>\n",
       "<style scoped>\n",
       "    .dataframe tbody tr th:only-of-type {\n",
       "        vertical-align: middle;\n",
       "    }\n",
       "\n",
       "    .dataframe tbody tr th {\n",
       "        vertical-align: top;\n",
       "    }\n",
       "\n",
       "    .dataframe thead th {\n",
       "        text-align: right;\n",
       "    }\n",
       "</style>\n",
       "<table border=\"1\" class=\"dataframe\">\n",
       "  <thead>\n",
       "    <tr style=\"text-align: right;\">\n",
       "      <th></th>\n",
       "      <th>label</th>\n",
       "      <th>sentence</th>\n",
       "      <th>정오</th>\n",
       "      <th>문장</th>\n",
       "    </tr>\n",
       "  </thead>\n",
       "  <tbody>\n",
       "    <tr>\n",
       "      <th>0</th>\n",
       "      <td>Incorrect</td>\n",
       "      <td>I have a good news for you.</td>\n",
       "      <td>NaN</td>\n",
       "      <td>NaN</td>\n",
       "    </tr>\n",
       "    <tr>\n",
       "      <th>1</th>\n",
       "      <td>Right</td>\n",
       "      <td>I have good news for you</td>\n",
       "      <td>NaN</td>\n",
       "      <td>NaN</td>\n",
       "    </tr>\n",
       "    <tr>\n",
       "      <th>2</th>\n",
       "      <td>Incorrect</td>\n",
       "      <td>Worry kills more the men than work.</td>\n",
       "      <td>NaN</td>\n",
       "      <td>NaN</td>\n",
       "    </tr>\n",
       "    <tr>\n",
       "      <th>3</th>\n",
       "      <td>Right</td>\n",
       "      <td>Worry kills more men than work.</td>\n",
       "      <td>NaN</td>\n",
       "      <td>NaN</td>\n",
       "    </tr>\n",
       "    <tr>\n",
       "      <th>4</th>\n",
       "      <td>Incorrect</td>\n",
       "      <td>We learn not at the school, but in life.</td>\n",
       "      <td>NaN</td>\n",
       "      <td>NaN</td>\n",
       "    </tr>\n",
       "    <tr>\n",
       "      <th>...</th>\n",
       "      <td>...</td>\n",
       "      <td>...</td>\n",
       "      <td>...</td>\n",
       "      <td>...</td>\n",
       "    </tr>\n",
       "    <tr>\n",
       "      <th>337</th>\n",
       "      <td>NaN</td>\n",
       "      <td>NaN</td>\n",
       "      <td>Correct</td>\n",
       "      <td>My father will be home this afternoon.</td>\n",
       "    </tr>\n",
       "    <tr>\n",
       "      <th>338</th>\n",
       "      <td>NaN</td>\n",
       "      <td>NaN</td>\n",
       "      <td>Incorrect</td>\n",
       "      <td>I very love drawing.</td>\n",
       "    </tr>\n",
       "    <tr>\n",
       "      <th>339</th>\n",
       "      <td>NaN</td>\n",
       "      <td>NaN</td>\n",
       "      <td>Correct</td>\n",
       "      <td>I love drawing very much.</td>\n",
       "    </tr>\n",
       "    <tr>\n",
       "      <th>340</th>\n",
       "      <td>NaN</td>\n",
       "      <td>NaN</td>\n",
       "      <td>Incorrect</td>\n",
       "      <td>What of season do you like best ?</td>\n",
       "    </tr>\n",
       "    <tr>\n",
       "      <th>341</th>\n",
       "      <td>NaN</td>\n",
       "      <td>NaN</td>\n",
       "      <td>Correct</td>\n",
       "      <td>Which season do you like best ?</td>\n",
       "    </tr>\n",
       "  </tbody>\n",
       "</table>\n",
       "<p>684 rows × 4 columns</p>\n",
       "</div>"
      ],
      "text/plain": [
       "         label                                  sentence         정오  \\\n",
       "0    Incorrect               I have a good news for you.        NaN   \n",
       "1        Right                  I have good news for you        NaN   \n",
       "2    Incorrect       Worry kills more the men than work.        NaN   \n",
       "3        Right           Worry kills more men than work.        NaN   \n",
       "4    Incorrect  We learn not at the school, but in life.        NaN   \n",
       "..         ...                                       ...        ...   \n",
       "337        NaN                                       NaN    Correct   \n",
       "338        NaN                                       NaN  Incorrect   \n",
       "339        NaN                                       NaN    Correct   \n",
       "340        NaN                                       NaN  Incorrect   \n",
       "341        NaN                                       NaN    Correct   \n",
       "\n",
       "                                             문장  \n",
       "0                                           NaN  \n",
       "1                                           NaN  \n",
       "2                                           NaN  \n",
       "3                                           NaN  \n",
       "4                                           NaN  \n",
       "..                                          ...  \n",
       "337      My father will be home this afternoon.  \n",
       "338                        I very love drawing.  \n",
       "339                   I love drawing very much.  \n",
       "340           What of season do you like best ?  \n",
       "341             Which season do you like best ?  \n",
       "\n",
       "[684 rows x 4 columns]"
      ]
     },
     "execution_count": 87,
     "metadata": {},
     "output_type": "execute_result"
    }
   ],
   "source": [
    "for i in range(len(df_final_1['정오'])):\n",
    "    if df_final_1.iloc[i,0] == 'Correct':\n",
    "        df_final_1.iloc[i,0] = 'Right'\n",
    "df_final_1"
   ]
  },
  {
   "cell_type": "code",
   "execution_count": 88,
   "id": "healthy-reward",
   "metadata": {
    "tags": []
   },
   "outputs": [
    {
     "data": {
      "text/html": [
       "<div>\n",
       "<style scoped>\n",
       "    .dataframe tbody tr th:only-of-type {\n",
       "        vertical-align: middle;\n",
       "    }\n",
       "\n",
       "    .dataframe tbody tr th {\n",
       "        vertical-align: top;\n",
       "    }\n",
       "\n",
       "    .dataframe thead th {\n",
       "        text-align: right;\n",
       "    }\n",
       "</style>\n",
       "<table border=\"1\" class=\"dataframe\">\n",
       "  <thead>\n",
       "    <tr style=\"text-align: right;\">\n",
       "      <th></th>\n",
       "      <th>label</th>\n",
       "      <th>sentence</th>\n",
       "      <th>정오</th>\n",
       "      <th>문장</th>\n",
       "    </tr>\n",
       "  </thead>\n",
       "  <tbody>\n",
       "    <tr>\n",
       "      <th>0</th>\n",
       "      <td>Wrong</td>\n",
       "      <td>I have a good news for you.</td>\n",
       "      <td>NaN</td>\n",
       "      <td>NaN</td>\n",
       "    </tr>\n",
       "    <tr>\n",
       "      <th>1</th>\n",
       "      <td>Right</td>\n",
       "      <td>I have good news for you</td>\n",
       "      <td>NaN</td>\n",
       "      <td>NaN</td>\n",
       "    </tr>\n",
       "    <tr>\n",
       "      <th>2</th>\n",
       "      <td>Wrong</td>\n",
       "      <td>Worry kills more the men than work.</td>\n",
       "      <td>NaN</td>\n",
       "      <td>NaN</td>\n",
       "    </tr>\n",
       "    <tr>\n",
       "      <th>3</th>\n",
       "      <td>Right</td>\n",
       "      <td>Worry kills more men than work.</td>\n",
       "      <td>NaN</td>\n",
       "      <td>NaN</td>\n",
       "    </tr>\n",
       "    <tr>\n",
       "      <th>4</th>\n",
       "      <td>Wrong</td>\n",
       "      <td>We learn not at the school, but in life.</td>\n",
       "      <td>NaN</td>\n",
       "      <td>NaN</td>\n",
       "    </tr>\n",
       "    <tr>\n",
       "      <th>...</th>\n",
       "      <td>...</td>\n",
       "      <td>...</td>\n",
       "      <td>...</td>\n",
       "      <td>...</td>\n",
       "    </tr>\n",
       "    <tr>\n",
       "      <th>337</th>\n",
       "      <td>NaN</td>\n",
       "      <td>NaN</td>\n",
       "      <td>Correct</td>\n",
       "      <td>My father will be home this afternoon.</td>\n",
       "    </tr>\n",
       "    <tr>\n",
       "      <th>338</th>\n",
       "      <td>NaN</td>\n",
       "      <td>NaN</td>\n",
       "      <td>Incorrect</td>\n",
       "      <td>I very love drawing.</td>\n",
       "    </tr>\n",
       "    <tr>\n",
       "      <th>339</th>\n",
       "      <td>NaN</td>\n",
       "      <td>NaN</td>\n",
       "      <td>Correct</td>\n",
       "      <td>I love drawing very much.</td>\n",
       "    </tr>\n",
       "    <tr>\n",
       "      <th>340</th>\n",
       "      <td>NaN</td>\n",
       "      <td>NaN</td>\n",
       "      <td>Incorrect</td>\n",
       "      <td>What of season do you like best ?</td>\n",
       "    </tr>\n",
       "    <tr>\n",
       "      <th>341</th>\n",
       "      <td>NaN</td>\n",
       "      <td>NaN</td>\n",
       "      <td>Correct</td>\n",
       "      <td>Which season do you like best ?</td>\n",
       "    </tr>\n",
       "  </tbody>\n",
       "</table>\n",
       "<p>684 rows × 4 columns</p>\n",
       "</div>"
      ],
      "text/plain": [
       "     label                                  sentence         정오  \\\n",
       "0    Wrong               I have a good news for you.        NaN   \n",
       "1    Right                  I have good news for you        NaN   \n",
       "2    Wrong       Worry kills more the men than work.        NaN   \n",
       "3    Right           Worry kills more men than work.        NaN   \n",
       "4    Wrong  We learn not at the school, but in life.        NaN   \n",
       "..     ...                                       ...        ...   \n",
       "337    NaN                                       NaN    Correct   \n",
       "338    NaN                                       NaN  Incorrect   \n",
       "339    NaN                                       NaN    Correct   \n",
       "340    NaN                                       NaN  Incorrect   \n",
       "341    NaN                                       NaN    Correct   \n",
       "\n",
       "                                             문장  \n",
       "0                                           NaN  \n",
       "1                                           NaN  \n",
       "2                                           NaN  \n",
       "3                                           NaN  \n",
       "4                                           NaN  \n",
       "..                                          ...  \n",
       "337      My father will be home this afternoon.  \n",
       "338                        I very love drawing.  \n",
       "339                   I love drawing very much.  \n",
       "340           What of season do you like best ?  \n",
       "341             Which season do you like best ?  \n",
       "\n",
       "[684 rows x 4 columns]"
      ]
     },
     "execution_count": 88,
     "metadata": {},
     "output_type": "execute_result"
    }
   ],
   "source": [
    "for i in range(len(df_final_1['정오'])):\n",
    "    if df_final_1.iloc[i,0] == 'Incorrect':\n",
    "        df_final_1.iloc[i,0] = 'Wrong'\n",
    "df_final_1"
   ]
  },
  {
   "cell_type": "code",
   "execution_count": 89,
   "id": "bearing-edwards",
   "metadata": {
    "tags": []
   },
   "outputs": [
    {
     "data": {
      "text/html": [
       "<div>\n",
       "<style scoped>\n",
       "    .dataframe tbody tr th:only-of-type {\n",
       "        vertical-align: middle;\n",
       "    }\n",
       "\n",
       "    .dataframe tbody tr th {\n",
       "        vertical-align: top;\n",
       "    }\n",
       "\n",
       "    .dataframe thead th {\n",
       "        text-align: right;\n",
       "    }\n",
       "</style>\n",
       "<table border=\"1\" class=\"dataframe\">\n",
       "  <thead>\n",
       "    <tr style=\"text-align: right;\">\n",
       "      <th></th>\n",
       "      <th>0</th>\n",
       "      <th>1</th>\n",
       "    </tr>\n",
       "  </thead>\n",
       "  <tbody>\n",
       "    <tr>\n",
       "      <th>0</th>\n",
       "      <td>Incorrect</td>\n",
       "      <td>I have a good news for you.</td>\n",
       "    </tr>\n",
       "    <tr>\n",
       "      <th>1</th>\n",
       "      <td>Correct</td>\n",
       "      <td>I have good news for you</td>\n",
       "    </tr>\n",
       "    <tr>\n",
       "      <th>2</th>\n",
       "      <td>Incorrect</td>\n",
       "      <td>Worry kills more the men than work.</td>\n",
       "    </tr>\n",
       "    <tr>\n",
       "      <th>3</th>\n",
       "      <td>Correct</td>\n",
       "      <td>Worry kills more men than work.</td>\n",
       "    </tr>\n",
       "    <tr>\n",
       "      <th>4</th>\n",
       "      <td>Incorrect</td>\n",
       "      <td>We learn not at the school, but in life.</td>\n",
       "    </tr>\n",
       "    <tr>\n",
       "      <th>...</th>\n",
       "      <td>...</td>\n",
       "      <td>...</td>\n",
       "    </tr>\n",
       "    <tr>\n",
       "      <th>337</th>\n",
       "      <td>Correct</td>\n",
       "      <td>My father will be home this afternoon.</td>\n",
       "    </tr>\n",
       "    <tr>\n",
       "      <th>338</th>\n",
       "      <td>Incorrect</td>\n",
       "      <td>I very love drawing.</td>\n",
       "    </tr>\n",
       "    <tr>\n",
       "      <th>339</th>\n",
       "      <td>Correct</td>\n",
       "      <td>I love drawing very much.</td>\n",
       "    </tr>\n",
       "    <tr>\n",
       "      <th>340</th>\n",
       "      <td>Incorrect</td>\n",
       "      <td>What of season do you like best ?</td>\n",
       "    </tr>\n",
       "    <tr>\n",
       "      <th>341</th>\n",
       "      <td>Correct</td>\n",
       "      <td>Which season do you like best ?</td>\n",
       "    </tr>\n",
       "  </tbody>\n",
       "</table>\n",
       "<p>342 rows × 2 columns</p>\n",
       "</div>"
      ],
      "text/plain": [
       "             0                                           1\n",
       "0    Incorrect                 I have a good news for you.\n",
       "1      Correct                    I have good news for you\n",
       "2    Incorrect         Worry kills more the men than work.\n",
       "3      Correct             Worry kills more men than work.\n",
       "4    Incorrect    We learn not at the school, but in life.\n",
       "..         ...                                         ...\n",
       "337    Correct      My father will be home this afternoon.\n",
       "338  Incorrect                        I very love drawing.\n",
       "339    Correct                   I love drawing very much.\n",
       "340  Incorrect           What of season do you like best ?\n",
       "341    Correct             Which season do you like best ?\n",
       "\n",
       "[342 rows x 2 columns]"
      ]
     },
     "execution_count": 89,
     "metadata": {},
     "output_type": "execute_result"
    }
   ],
   "source": [
    "import pandas as pd\n",
    "df = pd.read_csv ('./extra_data.csv')\n",
    "df"
   ]
  },
  {
   "cell_type": "code",
   "execution_count": 90,
   "id": "junior-american",
   "metadata": {},
   "outputs": [],
   "source": [
    "df.columns = ['label','sentence']"
   ]
  },
  {
   "cell_type": "code",
   "execution_count": 21,
   "id": "vertical-oasis",
   "metadata": {
    "collapsed": true,
    "jupyter": {
     "outputs_hidden": true
    },
    "tags": []
   },
   "outputs": [
    {
     "data": {
      "text/html": [
       "<div>\n",
       "<style scoped>\n",
       "    .dataframe tbody tr th:only-of-type {\n",
       "        vertical-align: middle;\n",
       "    }\n",
       "\n",
       "    .dataframe tbody tr th {\n",
       "        vertical-align: top;\n",
       "    }\n",
       "\n",
       "    .dataframe thead th {\n",
       "        text-align: right;\n",
       "    }\n",
       "</style>\n",
       "<table border=\"1\" class=\"dataframe\">\n",
       "  <thead>\n",
       "    <tr style=\"text-align: right;\">\n",
       "      <th></th>\n",
       "      <th>label</th>\n",
       "      <th>sentence</th>\n",
       "    </tr>\n",
       "  </thead>\n",
       "  <tbody>\n",
       "    <tr>\n",
       "      <th>0</th>\n",
       "      <td>Incorrect</td>\n",
       "      <td>I have a good news for you.</td>\n",
       "    </tr>\n",
       "    <tr>\n",
       "      <th>1</th>\n",
       "      <td>Correct</td>\n",
       "      <td>I have good news for you</td>\n",
       "    </tr>\n",
       "    <tr>\n",
       "      <th>2</th>\n",
       "      <td>Incorrect</td>\n",
       "      <td>Worry kills more the men than work.</td>\n",
       "    </tr>\n",
       "    <tr>\n",
       "      <th>3</th>\n",
       "      <td>Correct</td>\n",
       "      <td>Worry kills more men than work.</td>\n",
       "    </tr>\n",
       "    <tr>\n",
       "      <th>4</th>\n",
       "      <td>Incorrect</td>\n",
       "      <td>We learn not at the school, but in life.</td>\n",
       "    </tr>\n",
       "    <tr>\n",
       "      <th>...</th>\n",
       "      <td>...</td>\n",
       "      <td>...</td>\n",
       "    </tr>\n",
       "    <tr>\n",
       "      <th>337</th>\n",
       "      <td>Correct</td>\n",
       "      <td>My father will be home this afternoon.</td>\n",
       "    </tr>\n",
       "    <tr>\n",
       "      <th>338</th>\n",
       "      <td>Incorrect</td>\n",
       "      <td>I very love drawing.</td>\n",
       "    </tr>\n",
       "    <tr>\n",
       "      <th>339</th>\n",
       "      <td>Correct</td>\n",
       "      <td>I love drawing very much.</td>\n",
       "    </tr>\n",
       "    <tr>\n",
       "      <th>340</th>\n",
       "      <td>Incorrect</td>\n",
       "      <td>What of season do you like best ?</td>\n",
       "    </tr>\n",
       "    <tr>\n",
       "      <th>341</th>\n",
       "      <td>Correct</td>\n",
       "      <td>Which season do you like best ?</td>\n",
       "    </tr>\n",
       "  </tbody>\n",
       "</table>\n",
       "<p>342 rows × 2 columns</p>\n",
       "</div>"
      ],
      "text/plain": [
       "         label                                    sentence\n",
       "0    Incorrect                 I have a good news for you.\n",
       "1      Correct                    I have good news for you\n",
       "2    Incorrect         Worry kills more the men than work.\n",
       "3      Correct             Worry kills more men than work.\n",
       "4    Incorrect    We learn not at the school, but in life.\n",
       "..         ...                                         ...\n",
       "337    Correct      My father will be home this afternoon.\n",
       "338  Incorrect                        I very love drawing.\n",
       "339    Correct                   I love drawing very much.\n",
       "340  Incorrect           What of season do you like best ?\n",
       "341    Correct             Which season do you like best ?\n",
       "\n",
       "[342 rows x 2 columns]"
      ]
     },
     "execution_count": 21,
     "metadata": {},
     "output_type": "execute_result"
    }
   ],
   "source": [
    "df"
   ]
  },
  {
   "cell_type": "markdown",
   "id": "massive-canadian",
   "metadata": {},
   "source": [
    "=====\n",
    "# AI buliding\n",
    "===="
   ]
  },
  {
   "cell_type": "code",
   "execution_count": 34,
   "id": "competent-chest",
   "metadata": {},
   "outputs": [],
   "source": [
    "from sklearn.model_selection import train_test_split\n",
    "from sklearn.ensemble import RandomForestClassifier #ensemble: booasting 데이터 양 들릴데 , randomforest 알고리즘, decision tree보다 뉴런이 많음\n",
    "from sklearn.neural_network import MLPClassifier\n",
    "from sklearn.svm import SVC\n",
    "from sklearn.metrics import accuracy_score, classification_report, confusion_matrix \n",
    "from sklearn.pipeline import Pipeline"
   ]
  },
  {
   "cell_type": "code",
   "execution_count": 27,
   "id": "cathedral-manitoba",
   "metadata": {},
   "outputs": [],
   "source": [
    "from sklearn.feature_extraction.text import TfidfVectorizer"
   ]
  },
  {
   "cell_type": "code",
   "execution_count": 32,
   "id": "antique-david",
   "metadata": {},
   "outputs": [],
   "source": [
    "x_train, x_test, y_train, y_test = train_test_split(df['sentence'],df['label'],test_size=0.3, shuffle=True)"
   ]
  },
  {
   "cell_type": "code",
   "execution_count": 33,
   "id": "formal-match",
   "metadata": {},
   "outputs": [
    {
     "data": {
      "text/plain": [
       " Thanks for giving me useful advices.               2\n",
       "    Is it the rainy season in China?                1\n",
       "    My watch isn’t running.                         1\n",
       "  Don’t go in the sun.                              1\n",
       "  Those who are absent, I shall punish them.        1\n",
       "                                                   ..\n",
       " I forget my hat in the house.                      1\n",
       " Don’t step in the grass.                           1\n",
       "  I’ll date her out this Friday.                    1\n",
       "    He asked me why I had not gone to the party.    1\n",
       "  The girl wants to get herself married.            1\n",
       "Name: sentence, Length: 238, dtype: int64"
      ]
     },
     "execution_count": 33,
     "metadata": {},
     "output_type": "execute_result"
    }
   ],
   "source": [
    "x_train.value_counts()"
   ]
  },
  {
   "cell_type": "code",
   "execution_count": 39,
   "id": "solved-hopkins",
   "metadata": {},
   "outputs": [],
   "source": [
    "clf = Pipeline([('tfidf', TfidfVectorizer()), ('rf', RandomForestClassifier(n_estimators=100, n_jobs=1))])"
   ]
  },
  {
   "cell_type": "code",
   "execution_count": 41,
   "id": "gothic-tutorial",
   "metadata": {},
   "outputs": [
    {
     "data": {
      "text/plain": [
       "Pipeline(steps=[('tfidf', TfidfVectorizer()),\n",
       "                ('rf', RandomForestClassifier(n_jobs=1))])"
      ]
     },
     "execution_count": 41,
     "metadata": {},
     "output_type": "execute_result"
    }
   ],
   "source": [
    "clf.fit(x_train, y_train)"
   ]
  },
  {
   "cell_type": "code",
   "execution_count": 42,
   "id": "marked-grave",
   "metadata": {},
   "outputs": [],
   "source": [
    "y_pred = clf.predict(x_test)"
   ]
  },
  {
   "cell_type": "code",
   "execution_count": 43,
   "id": "silent-infection",
   "metadata": {},
   "outputs": [
    {
     "data": {
      "text/plain": [
       "array([[10, 45],\n",
       "       [32, 16]])"
      ]
     },
     "execution_count": 43,
     "metadata": {},
     "output_type": "execute_result"
    }
   ],
   "source": [
    "confusion_matrix(y_test, y_pred)"
   ]
  },
  {
   "cell_type": "code",
   "execution_count": 44,
   "id": "formed-actress",
   "metadata": {},
   "outputs": [
    {
     "name": "stdout",
     "output_type": "stream",
     "text": [
      "              precision    recall  f1-score   support\n",
      "\n",
      "     Correct       0.24      0.18      0.21        55\n",
      "   Incorrect       0.26      0.33      0.29        48\n",
      "\n",
      "    accuracy                           0.25       103\n",
      "   macro avg       0.25      0.26      0.25       103\n",
      "weighted avg       0.25      0.25      0.25       103\n",
      "\n"
     ]
    }
   ],
   "source": [
    "print (classification_report(y_test, y_pred))"
   ]
  },
  {
   "cell_type": "code",
   "execution_count": 46,
   "id": "concrete-brighton",
   "metadata": {},
   "outputs": [
    {
     "data": {
      "text/plain": [
       "0.2524271844660194"
      ]
     },
     "execution_count": 46,
     "metadata": {},
     "output_type": "execute_result"
    }
   ],
   "source": [
    "accuracy_score(y_test, y_pred)"
   ]
  },
  {
   "cell_type": "code",
   "execution_count": 47,
   "id": "capital-updating",
   "metadata": {},
   "outputs": [
    {
     "data": {
      "text/plain": [
       "array(['Incorrect'], dtype=object)"
      ]
     },
     "execution_count": 47,
     "metadata": {},
     "output_type": "execute_result"
    }
   ],
   "source": [
    "clf.predict(['I have a good news for you'])"
   ]
  },
  {
   "cell_type": "code",
   "execution_count": 48,
   "id": "unlikely-duncan",
   "metadata": {},
   "outputs": [
    {
     "data": {
      "text/plain": [
       "array(['Incorrect'], dtype=object)"
      ]
     },
     "execution_count": 48,
     "metadata": {},
     "output_type": "execute_result"
    }
   ],
   "source": [
    "clf.predict(['Worry kills more the men than work'])"
   ]
  },
  {
   "cell_type": "code",
   "execution_count": 50,
   "id": "maritime-pulse",
   "metadata": {},
   "outputs": [],
   "source": [
    "clf2= Pipeline([('tfidf',TfidfVectorizer()), ('rf', SVC(C= 1000, gamma = 'auto'))])"
   ]
  },
  {
   "cell_type": "code",
   "execution_count": 56,
   "id": "italic-heather",
   "metadata": {},
   "outputs": [
    {
     "data": {
      "text/plain": [
       "Pipeline(steps=[('tfidf', TfidfVectorizer()),\n",
       "                ('rf', SVC(C=1000, gamma='auto'))])"
      ]
     },
     "execution_count": 56,
     "metadata": {},
     "output_type": "execute_result"
    }
   ],
   "source": [
    "clf2.fit(x_train,y_train)"
   ]
  },
  {
   "cell_type": "code",
   "execution_count": 57,
   "id": "processed-conclusion",
   "metadata": {},
   "outputs": [],
   "source": [
    "y_pred1 = clf2.predict(x_test)"
   ]
  },
  {
   "cell_type": "code",
   "execution_count": 58,
   "id": "rough-therapy",
   "metadata": {},
   "outputs": [
    {
     "data": {
      "text/plain": [
       "array([[13, 42],\n",
       "       [36, 12]])"
      ]
     },
     "execution_count": 58,
     "metadata": {},
     "output_type": "execute_result"
    }
   ],
   "source": [
    "confusion_matrix(y_test,y_pred1)"
   ]
  },
  {
   "cell_type": "code",
   "execution_count": 60,
   "id": "refined-johns",
   "metadata": {},
   "outputs": [
    {
     "name": "stdout",
     "output_type": "stream",
     "text": [
      "              precision    recall  f1-score   support\n",
      "\n",
      "     Correct       0.27      0.24      0.25        55\n",
      "   Incorrect       0.22      0.25      0.24        48\n",
      "\n",
      "    accuracy                           0.24       103\n",
      "   macro avg       0.24      0.24      0.24       103\n",
      "weighted avg       0.25      0.24      0.24       103\n",
      "\n"
     ]
    }
   ],
   "source": [
    "print (classification_report(y_test,y_pred1))"
   ]
  },
  {
   "cell_type": "code",
   "execution_count": 61,
   "id": "impaired-shield",
   "metadata": {},
   "outputs": [
    {
     "data": {
      "text/plain": [
       "array(['Incorrect'], dtype=object)"
      ]
     },
     "execution_count": 61,
     "metadata": {},
     "output_type": "execute_result"
    }
   ],
   "source": [
    "clf2.predict(['I very love drawing.'])"
   ]
  },
  {
   "cell_type": "code",
   "execution_count": 64,
   "id": "competent-contemporary",
   "metadata": {},
   "outputs": [
    {
     "data": {
      "text/plain": [
       "array(['Incorrect'], dtype=object)"
      ]
     },
     "execution_count": 64,
     "metadata": {},
     "output_type": "execute_result"
    }
   ],
   "source": [
    "clf2.predict(['I love my boyfriend very much.'])"
   ]
  },
  {
   "cell_type": "code",
   "execution_count": 68,
   "id": "accredited-fusion",
   "metadata": {},
   "outputs": [
    {
     "data": {
      "text/plain": [
       "['./abc.pk1']"
      ]
     },
     "execution_count": 68,
     "metadata": {},
     "output_type": "execute_result"
    }
   ],
   "source": [
    "import joblib\n",
    "joblib.dump(clf, './abc.pk1')"
   ]
  },
  {
   "cell_type": "code",
   "execution_count": 70,
   "id": "least-pendant",
   "metadata": {},
   "outputs": [],
   "source": [
    "load_model = joblib.load('./최종학습프로그램.pk1')"
   ]
  },
  {
   "cell_type": "code",
   "execution_count": 71,
   "id": "beginning-wesley",
   "metadata": {},
   "outputs": [
    {
     "data": {
      "text/plain": [
       "array(['Incorrect'], dtype=object)"
      ]
     },
     "execution_count": 71,
     "metadata": {},
     "output_type": "execute_result"
    }
   ],
   "source": [
    "load_model.predict(['I have a good news for you.'])"
   ]
  },
  {
   "cell_type": "code",
   "execution_count": null,
   "id": "comparable-shannon",
   "metadata": {},
   "outputs": [],
   "source": []
  }
 ],
 "metadata": {
  "kernelspec": {
   "display_name": "Python 3",
   "language": "python",
   "name": "python3"
  },
  "language_info": {
   "codemirror_mode": {
    "name": "ipython",
    "version": 3
   },
   "file_extension": ".py",
   "mimetype": "text/x-python",
   "name": "python",
   "nbconvert_exporter": "python",
   "pygments_lexer": "ipython3",
   "version": "3.8.5"
  }
 },
 "nbformat": 4,
 "nbformat_minor": 5
}
